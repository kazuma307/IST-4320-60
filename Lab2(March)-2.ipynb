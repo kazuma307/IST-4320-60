{
 "cells": [
  {
   "cell_type": "code",
   "execution_count": 7,
   "id": "3289e27f-4df9-464f-9e4b-59521ea46e64",
   "metadata": {
    "tags": []
   },
   "outputs": [
    {
     "name": "stdout",
     "output_type": "stream",
     "text": [
      "ZIP codes tuple: ('90210', '60601', '94102')\n",
      "Reversed ZIP codes tuple: ('94102', '60601', '90210')\n"
     ]
    }
   ],
   "source": [
    "#Question 1a : Given a list of cities and their corresponding ZIP codes, extract the ZIP codes and organize them into a tuple. \n",
    "\n",
    "# Given dictionary of ZIP codes and cities\n",
    "zipcode = {'90210':'Beverly Hills, CA', '60601': 'Chicago, IL', '94102':'San Francisco, CA'}\n",
    "\n",
    "# Extract ZIP codes and organize into a tuple\n",
    "zip_tuple = tuple(zipcode.keys())\n",
    "\n",
    "print(\"ZIP codes tuple:\", zip_tuple)\n",
    "    \n",
    "    \n",
    "#Question 1b: Rearrange the tuple in reverse order from 1a. \n",
    "\n",
    "# Reverse the order of the ZIP codes tuple\n",
    "reversed_zip_tuple = zip_tuple[::-1]\n",
    "\n",
    "print(\"Reversed ZIP codes tuple:\", reversed_zip_tuple)"
   ]
  },
  {
   "cell_type": "code",
   "execution_count": 8,
   "id": "0119a72c-2b26-469e-a8f2-e0b36b62935f",
   "metadata": {
    "tags": []
   },
   "outputs": [
    {
     "name": "stdout",
     "output_type": "stream",
     "text": [
      "The text 'apples' is found in the sentence.\n",
      "Starting position: 55\n",
      "Ending position: 61\n"
     ]
    }
   ],
   "source": [
    "# question 2 : Here is a list of groceries. The user needs help extracting the text \"apples\" and placing the text \"apples\" into the sentence below.\n",
    "#  Please use regular expressions. ( regex ) \n",
    "import re\n",
    "\n",
    "random_text = \"Milk, eggs, bread, butter, cheese, fresh fruits (e.g., apples, bananas), fresh vegetables (e.g., lettuce, tomatoes), rice, pasta, canned tomatoes, chicken breasts or thighs, ground beef or turkey, cooking oil (e.g., olive oil), spices (e.g., salt, pepper), snacks (e.g., chips, nuts)\"\n",
    "\n",
    "# Use regular expression to extract \"apples\" from the text\n",
    "apples_match = re.search(r'apples', random_text)\n",
    "\n",
    "if apples_match:\n",
    "    print(\"The text 'apples' is found in the sentence.\")\n",
    "    starting_position = apples_match.start()\n",
    "    ending_position = apples_match.end()\n",
    "    print(\"Starting position:\", starting_position)\n",
    "    print(\"Ending position:\", ending_position)\n",
    "else:\n",
    "    print(\"The text 'apples' is not found in the sentence.\")\n",
    "#from https://randomwordgenerator.com/sentence.php 😀\n",
    "\n",
    "\n",
    "\n",
    "\n",
    "#What is the starting and ending position of the text \"apples\" in random_text? Paste below 👇 \n",
    "      \n",
    "\n",
    "#The starting and ending positions of the text \"apples\" in random_text are as follows:\n",
    "#Starting position: 55\n",
    "#Ending position: 61"
   ]
  },
  {
   "cell_type": "code",
   "execution_count": 18,
   "id": "bae211a8-20d1-44c2-97bf-5ed98fc4cd74",
   "metadata": {
    "tags": []
   },
   "outputs": [
    {
     "name": "stdout",
     "output_type": "stream",
     "text": [
      "Recipe Ingredients:\n",
      "- pie crusts\n",
      "- Granny Smith apples\n",
      "- granulated sugar\n",
      "- light brown sugar\n",
      "- all-purpose flour\n",
      "- ground cinnamon\n",
      "- ground nutmeg\n",
      "- lemon juice\n",
      "- egg\n",
      "- sanding sugar\n"
     ]
    }
   ],
   "source": [
    "# question 3 : \n",
    "#I have a link to a recipe for making apple pie, perfect for celebrating Pi Day. \n",
    "#I'm seeking assistance with extracting the 'recipeIngredient' section from the website. \n",
    "#A helpful hint is that we could utilize the 'json' module for this task.\n",
    "from bs4 import BeautifulSoup\n",
    "from urllib.request import Request, urlopen\n",
    "\n",
    "# URL of the website\n",
    "site = \"https://littlespoonfarm.com/apple-pie-recipe/\"\n",
    "\n",
    "try:\n",
    "    # Send a request to the website and get the HTML response\n",
    "    req = Request(site, headers={'User-Agent': 'Mozilla/5.0'})\n",
    "    html = urlopen(req).read()\n",
    "\n",
    "    # Parse the HTML content using BeautifulSoup\n",
    "    soup = BeautifulSoup(html, 'html.parser')\n",
    "\n",
    "    # Find all elements containing recipe ingredients\n",
    "    ingredient_elements = soup.find_all('span', class_='wprm-recipe-ingredient-name')\n",
    "\n",
    "    # Extract and print the recipe ingredients\n",
    "    if ingredient_elements:\n",
    "        print(\"Recipe Ingredients:\")\n",
    "        for element in ingredient_elements:\n",
    "            ingredient = element.get_text().strip()\n",
    "            print(\"-\", ingredient)\n",
    "    else:\n",
    "        print(\"No recipe ingredients found on the page.\")\n",
    "\n",
    "except Exception as e:\n",
    "    print(\"An error occurred:\", e)"
   ]
  },
  {
   "cell_type": "code",
   "execution_count": 16,
   "id": "96c51918-ae9b-493a-9803-88087a586dad",
   "metadata": {
    "tags": []
   },
   "outputs": [
    {
     "name": "stdout",
     "output_type": "stream",
     "text": [
      "Even numbers from setA: {-70, -60, 36, 74, 42, -52, 12, -20, -82, 18, -46, -14, 88, -38}\n",
      "Odd numbers from setB: {-95, -31, -29, 69, 41, 91, 79, -67, 17, -13, -73, 25, 27, -35, 63}\n",
      "Intersection between set2 and set3: {9, 2, 5, 6}\n"
     ]
    }
   ],
   "source": [
    "# question 4 :\n",
    "# Here are two sets \n",
    "#4a: Create a code for the user who wants to extract only even numbers from setA.\n",
    "setA = {-82, 45, -27, 69, -14, 83, 57, -91, 36, -3, 18, -60, 74, -38, 5, -70, 29, 91, -52, 12, -46, 63, -9, 42, 77, -65, 21, -37, 88, -20}\n",
    "\n",
    "even_numbers_from_setA = {num for num in setA if num % 2 == 0}\n",
    "\n",
    "print(\"Even numbers from setA:\", even_numbers_from_setA)\n",
    "\n",
    "#4b: Create a code for the user who wants to extract only odd numbers from setB.\n",
    "setB = {-88, 17, -42, 69, -31, 58, 74, -95, 25, -13, 36, -67, 82, -50, 41, -73, 6, 91, -29, 52, -84, 27, -20, 63, 79, -58, 12, -35, 88, -16}\n",
    "\n",
    "odd_numbers_from_setB = {num for num in setB if num % 2 != 0}\n",
    "\n",
    "print(\"Odd numbers from setB:\", odd_numbers_from_setB)\n",
    "\n",
    "         \n",
    "#4c: Find the intersection between set2 and set3.\n",
    "\n",
    "set2 = {1,2,4,5,6,7,8,9}\n",
    "set3 = {2,9,5,6,15,13}\n",
    "\n",
    "intersection_set = set2.intersection(set3)\n",
    "\n",
    "print(\"Intersection between set2 and set3:\", intersection_set)"
   ]
  },
  {
   "cell_type": "code",
   "execution_count": null,
   "id": "39186245-0a7e-48c4-b0e5-c0b2e8cdb8ed",
   "metadata": {},
   "outputs": [],
   "source": [
    "# Question 5\n",
    "#Upload your completed lab to your GitHub and submit the link to yout Git Hub account."
   ]
  }
 ],
 "metadata": {
  "kernelspec": {
   "display_name": "Python 3 (ipykernel)",
   "language": "python",
   "name": "python3"
  },
  "language_info": {
   "codemirror_mode": {
    "name": "ipython",
    "version": 3
   },
   "file_extension": ".py",
   "mimetype": "text/x-python",
   "name": "python",
   "nbconvert_exporter": "python",
   "pygments_lexer": "ipython3",
   "version": "3.11.5"
  }
 },
 "nbformat": 4,
 "nbformat_minor": 5
}
